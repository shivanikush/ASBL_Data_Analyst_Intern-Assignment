{
  "cells": [
    {
      "cell_type": "markdown",
      "source": [
        " **Shivani Kushwaha**\n",
        "\n",
        "---\n",
        "\n",
        "\n",
        " Contact No. 9453422900\n",
        "\n",
        "---\n",
        "\n",
        "\n",
        "Mail id : shivanikush1797@gmail.com"
      ],
      "metadata": {
        "id": "0ZrW-6gfxJFi"
      }
    },
    {
      "cell_type": "markdown",
      "metadata": {
        "id": "_B1UtADhxDb1"
      },
      "source": [
        "# Task 1: Load the dataset in your environment."
      ]
    },
    {
      "cell_type": "code",
      "execution_count": 16,
      "metadata": {
        "colab": {
          "base_uri": "https://localhost:8080/",
          "height": 453
        },
        "id": "HXOMXzlKxDb3",
        "outputId": "be69e5ef-384a-405a-e867-69ab7c0a221d"
      },
      "outputs": [
        {
          "output_type": "stream",
          "name": "stdout",
          "text": [
            "      Type                  Title         Director  \\\n",
            "0    Movie   Dick Johnson Is Dead  Kirsten Johnson   \n",
            "1  TV Show          Blood & Water              NaN   \n",
            "2  TV Show              Ganglands  Julien Leclercq   \n",
            "3  TV Show  Jailbirds New Orleans              NaN   \n",
            "4  TV Show           Kota Factory              NaN   \n",
            "\n",
            "                                                Cast        Country  \\\n",
            "0                                                NaN  United States   \n",
            "1  Ama Qamata, Khosi Ngema, Gail Mabalane, Thaban...   South Africa   \n",
            "2  Sami Bouajila, Tracy Gotoas, Samuel Jouy, Nabi...            NaN   \n",
            "3                                                NaN            NaN   \n",
            "4  Mayur More, Jitendra Kumar, Ranjan Raj, Alam K...          India   \n",
            "\n",
            "   Release_year                                             Genres  \n",
            "0          2020                                      Documentaries  \n",
            "1          2021    International TV Shows, TV Dramas, TV Mysteries  \n",
            "2          2021  Crime TV Shows, International TV Shows, TV Act...  \n",
            "3          2021                             Docuseries, Reality TV  \n",
            "4          2021  International TV Shows, Romantic TV Shows, TV ...  \n"
          ]
        },
        {
          "output_type": "display_data",
          "data": {
            "text/plain": [
              "<Figure size 288x72 with 1 Axes>"
            ],
            "image/png": "[encoded data removed]"
          },
          "metadata": {
            "needs_background": "light"
          }
        }
      ],
      "source": [
        "import pandas as pd\n",
        "\n",
        "# Load the dataset\n",
        "df = pd.read_excel(r'asbl_data_analyst_interview_assignment_netflix.xlsx')\n",
        "\n",
        "# Print the first five rows of the dataset\n",
        "print(df.head())\n"
      ]
    },
    {
      "cell_type": "markdown",
      "metadata": {
        "id": "F_Pv0i-oxDb6"
      },
      "source": [
        "# Task 2: Perform EDA (exploratory data analysis) on the dataset."
      ]
    },
    {
      "cell_type": "markdown",
      "metadata": {
        "id": "gvX-5FcIxDb6"
      },
      "source": [
        "## 1. Check the size of the dataset and the data types of each attribute."
      ]
    },
    {
      "cell_type": "code",
      "execution_count": 17,
      "metadata": {
        "colab": {
          "base_uri": "https://localhost:8080/"
        },
        "id": "pExmADOGxDb7",
        "outputId": "af9452bb-a3e9-4ee9-94de-5490d585b2bf"
      },
      "outputs": [
        {
          "output_type": "stream",
          "name": "stdout",
          "text": [
            "(8807, 7)\n",
            "Type            object\n",
            "Title           object\n",
            "Director        object\n",
            "Cast            object\n",
            "Country         object\n",
            "Release_year     int64\n",
            "Genres          object\n",
            "dtype: object\n"
          ]
        }
      ],
      "source": [
        "# Print the shape of the dataset\n",
        "print(df.shape)\n",
        "\n",
        "# Print the data types of each attribute\n",
        "print(df.dtypes)\n"
      ]
    },
    {
      "cell_type": "markdown",
      "metadata": {
        "id": "cP4Wmgs7xDb7"
      },
      "source": [
        "## 2. Check for missing values and handle them if necessary."
      ]
    },
    {
      "cell_type": "code",
      "execution_count": 18,
      "metadata": {
        "colab": {
          "base_uri": "https://localhost:8080/"
        },
        "id": "Ramh3Co1xDb7",
        "outputId": "3e2e9859-49fc-445b-8cb1-74be037efece"
      },
      "outputs": [
        {
          "output_type": "stream",
          "name": "stdout",
          "text": [
            "Type               0\n",
            "Title              0\n",
            "Director        2634\n",
            "Cast             825\n",
            "Country          831\n",
            "Release_year       0\n",
            "Genres             0\n",
            "dtype: int64\n"
          ]
        }
      ],
      "source": [
        "# Check for missing values\n",
        "print(df.isnull().sum())\n",
        "\n",
        "# Handle missing values if necessary\n",
        "# For example, you can drop the rows with missing values\n",
        "df.dropna(inplace=True)\n"
      ]
    },
    {
      "cell_type": "markdown",
      "metadata": {
        "id": "RWZ8KKy9xDb8"
      },
      "source": [
        "## 3. Check the distribution of numerical attributes."
      ]
    },
    {
      "cell_type": "code",
      "execution_count": 19,
      "metadata": {
        "colab": {
          "base_uri": "https://localhost:8080/"
        },
        "id": "1Ek1Bu85xDb8",
        "outputId": "b5207596-5dbc-4cfc-b845-c6701f908ce5"
      },
      "outputs": [
        {
          "output_type": "stream",
          "name": "stdout",
          "text": [
            "       Release_year\n",
            "count   5336.000000\n",
            "mean    2012.743253\n",
            "std        9.622570\n",
            "min     1942.000000\n",
            "25%     2011.000000\n",
            "50%     2016.000000\n",
            "75%     2018.000000\n",
            "max     2021.000000\n"
          ]
        }
      ],
      "source": [
        "# Print the summary statistics of numerical attributes\n",
        "print(df.describe())\n"
      ]
    },
    {
      "cell_type": "markdown",
      "metadata": {
        "id": "9dAwJ0onxDb8"
      },
      "source": [
        "## 4. Check the frequency distribution of categorical attributes."
      ]
    },
    {
      "cell_type": "code",
      "execution_count": 20,
      "metadata": {
        "colab": {
          "base_uri": "https://localhost:8080/"
        },
        "id": "MekIggyExDb9",
        "outputId": "d763dc37-418c-43c2-f4b1-cb5e5e79c44c"
      },
      "outputs": [
        {
          "output_type": "stream",
          "name": "stdout",
          "text": [
            "Movie      5189\n",
            "TV Show     147\n",
            "Name: Type, dtype: int64\n",
            "United States                                   1849\n",
            "India                                            875\n",
            "United Kingdom                                   183\n",
            "Canada                                           107\n",
            "Spain                                             91\n",
            "                                                ... \n",
            "Uruguay, Guatemala                                 1\n",
            "Romania, Bulgaria, Hungary                         1\n",
            "Philippines, United States                         1\n",
            "India, United Kingdom, Canada, United States       1\n",
            "United Arab Emirates, Jordan                       1\n",
            "Name: Country, Length: 604, dtype: int64\n",
            "Dramas, International Movies                               336\n",
            "Stand-Up Comedy                                            286\n",
            "Comedies, Dramas, International Movies                     257\n",
            "Dramas, Independent Movies, International Movies           243\n",
            "Children & Family Movies, Comedies                         179\n",
            "                                                          ... \n",
            "Comedies, Documentaries                                      1\n",
            "International TV Shows, Romantic TV Shows, TV Mysteries      1\n",
            "Horror Movies, International Movies, Sci-Fi & Fantasy        1\n",
            "Reality TV                                                   1\n",
            "Cult Movies, Dramas, Thrillers                               1\n",
            "Name: Genres, Length: 335, dtype: int64\n"
          ]
        }
      ],
      "source": [
        "# Print the frequency distribution of categorical attributes\n",
        "print(df['Type'].value_counts())\n",
        "print(df['Country'].value_counts())\n",
        "print(df['Genres'].value_counts())\n"
      ]
    },
    {
      "cell_type": "markdown",
      "metadata": {
        "id": "ItaeuoXJxDb9"
      },
      "source": [
        "## 4. Visualize the data to identify patterns and relationships."
      ]
    },
    {
      "cell_type": "code",
      "execution_count": 32,
      "metadata": {
        "colab": {
          "base_uri": "https://localhost:8080/",
          "height": 869
        },
        "id": "oEwC-bDNxDb9",
        "outputId": "dc06e1ac-ebf2-4bc0-a88d-cf0a5d877db1"
      },
      "outputs": [
        {
          "output_type": "display_data",
          "data": {
            "text/plain": [
              "<Figure size 720x720 with 1 Axes>"
            ],
            "image/png": "[encoded data removed]"
          },
          "metadata": {
            "needs_background": "light"
          }
        },
        {
          "output_type": "display_data",
          "data": {
            "text/plain": [
              "<Figure size 432x288 with 1 Axes>"
            ],
            "image/png": "[encoded data removed]"
          },
          "metadata": {
            "needs_background": "light"
          }
        }
      ],
      "source": [
        "# Visualize the distribution of numerical attributes using histograms\n",
        "import matplotlib.pyplot as plt\n",
        "df.hist(figsize=(10,10),color = \"#E50914\")\n",
        "plt.show()\n",
        "\n",
        "# Visualize the relationship between attributes using scatter plots\n",
        "plt.scatter(df['Release_year'], df['Type'], color = '#E50914')\n",
        "plt.xlabel('Release Year')\n",
        "plt.ylabel('Type')\n",
        "plt.show()\n"
      ]
    },
    {
      "cell_type": "markdown",
      "metadata": {
        "id": "tsRytzJwxDb-"
      },
      "source": [
        "# Task 3: Plot some meaningful graphs here which convey some insights and those insights businesses can use to further increase their revenue and attract more customers. Make sure that the insights found must be backed up by data and share some recommendations for the stakeholders."
      ]
    },
    {
      "cell_type": "markdown",
      "metadata": {
        "id": "Wo2HrdhkxDb-"
      },
      "source": [
        "## 1. Distribution of content types"
      ]
    },
    {
      "cell_type": "code",
      "execution_count": 31,
      "metadata": {
        "colab": {
          "base_uri": "https://localhost:8080/",
          "height": 295
        },
        "id": "vg0Nc9xlxDb-",
        "outputId": "c7019d4e-2624-4944-85c4-21775fb7209e"
      },
      "outputs": [
        {
          "output_type": "display_data",
          "data": {
            "text/plain": [
              "<Figure size 432x288 with 1 Axes>"
            ],
            "image/png": "[encoded data removed]"
          },
          "metadata": {
            "needs_background": "light"
          }
        }
      ],
      "source": [
        "import seaborn as sns\n",
        "import matplotlib.pyplot as plt\n",
        "\n",
        "sns.countplot(x=\"Type\", data=df, color = \"#E50914\")\n",
        "plt.title(\"Distribution of content types\")\n",
        "plt.xlabel(\"Content type\")\n",
        "plt.ylabel(\"Count\")\n",
        "plt.show()\n"
      ]
    },
    {
      "cell_type": "markdown",
      "metadata": {
        "id": "Stql_JUmxDb-"
      },
      "source": [
        "## 2. Top 10 countries by number of titles"
      ]
    },
    {
      "cell_type": "code",
      "execution_count": 23,
      "metadata": {
        "colab": {
          "base_uri": "https://localhost:8080/",
          "height": 404
        },
        "id": "_5TTLj-lxDb_",
        "outputId": "19c06007-2e87-43b4-e359-0d2e74864985"
      },
      "outputs": [
        {
          "output_type": "display_data",
          "data": {
            "text/plain": [
              "<Figure size 864x432 with 1 Axes>"
            ],
            "image/png": "[encoded data removed]"
          },
          "metadata": {
            "needs_background": "light"
          }
        }
      ],
      "source": [
        "plt.figure(figsize=(12,6))\n",
        "sns.countplot(y=\"Country\", data=df, order=df[\"Country\"].value_counts().iloc[:10].index)\n",
        "plt.title(\"Top 10 countries by number of titles\")\n",
        "plt.xlabel(\"Count\")\n",
        "plt.ylabel(\"Country\")\n",
        "plt.show()\n"
      ]
    },
    {
      "cell_type": "markdown",
      "metadata": {
        "id": "lBaABH2QxDb_"
      },
      "source": [
        "## 3. Top 10 directors by number of titles"
      ]
    },
    {
      "cell_type": "code",
      "execution_count": 24,
      "metadata": {
        "colab": {
          "base_uri": "https://localhost:8080/",
          "height": 404
        },
        "id": "-2mSuAEWxDb_",
        "outputId": "6633fb0b-a9a3-44d6-eb65-4a8618faf45f"
      },
      "outputs": [
        {
          "output_type": "display_data",
          "data": {
            "text/plain": [
              "<Figure size 864x432 with 1 Axes>"
            ],
            "image/png": "[encoded data removed]"
          },
          "metadata": {
            "needs_background": "light"
          }
        }
      ],
      "source": [
        "plt.figure(figsize=(12,6))\n",
        "sns.countplot(y=\"Director\", data=df, order=df[\"Director\"].value_counts().iloc[:10].index)\n",
        "plt.title(\"Top 10 directors by number of titles\")\n",
        "plt.xlabel(\"Count\")\n",
        "plt.ylabel(\"Director\")\n",
        "plt.show()\n"
      ]
    },
    {
      "cell_type": "markdown",
      "metadata": {
        "id": "qLcSvw-xxDcA"
      },
      "source": [
        "# Based on these graphs, here are some insights and recommendations for stakeholders"
      ]
    },
    {
      "cell_type": "markdown",
      "metadata": {
        "id": "Gt3d65V6xDcA"
      },
      "source": [
        "### 1. The majority of content on Netflix is movies, so it might be a good idea to focus on producing more movies to attract more customers. "
      ]
    },
    {
      "cell_type": "markdown",
      "metadata": {
        "id": "f0rWWTjkxDcA"
      },
      "source": [
        "### 2. The United States, India, and the United Kingdom are the top countries with the most content on Netflix, so Netflix could consider producing more content from these countries to cater to their audience."
      ]
    },
    {
      "cell_type": "markdown",
      "metadata": {
        "id": "XDj1XvQFxDcA"
      },
      "source": [
        "### 3. The top directors with the most titles on Netflix are Raúl Campos, Jan Suter, and Marcus Raboy. Netflix could collaborate more with these directors to produce more content for their platform."
      ]
    },
    {
      "cell_type": "markdown",
      "metadata": {
        "id": "qGFc0cIaxDcB"
      },
      "source": [
        "# Task 4: Assignments Questions"
      ]
    },
    {
      "cell_type": "markdown",
      "metadata": {
        "id": "n2qKljqPxDcB"
      },
      "source": [
        "## a. Which are the top 5 directors who produce most of the movies only?"
      ]
    },
    {
      "cell_type": "code",
      "execution_count": 25,
      "metadata": {
        "colab": {
          "base_uri": "https://localhost:8080/"
        },
        "id": "2qVzrsQwxDcB",
        "outputId": "6d0b98ae-3122-40ae-d547-ea6a553385f2"
      },
      "outputs": [
        {
          "output_type": "stream",
          "name": "stdout",
          "text": [
            "                    Director  Title\n",
            "3252           Rajiv Chilaka     19\n",
            "3303  Raúl Campos, Jan Suter     18\n",
            "3885             Suhas Kadav     16\n",
            "2492            Marcus Raboy     15\n",
            "1716               Jay Karas     14\n"
          ]
        }
      ],
      "source": [
        "import pandas as pd\n",
        "\n",
        "df = pd.read_excel(r'asbl_data_analyst_interview_assignment_netflix.xlsx')\n",
        "\n",
        "# Filter for movies only\n",
        "movies = df[df['Type'] == 'Movie']\n",
        "\n",
        "# Group by director and count number of movies\n",
        "director_counts = movies.groupby('Director')['Title'].count().reset_index()\n",
        "\n",
        "# Sort by count of movies and select top 5\n",
        "top_directors = director_counts.sort_values('Title', ascending=False).head(5)\n",
        "\n",
        "print(top_directors)\n"
      ]
    },
    {
      "cell_type": "markdown",
      "metadata": {
        "id": "alK0ekNWxDcB"
      },
      "source": [
        "## b. Which are the top 5 genres which are liked by people or here liking means listed on the portal of Netflix (you can find a count for each genre and list the top 5 genres) for movies and TV shows?"
      ]
    },
    {
      "cell_type": "code",
      "execution_count": 26,
      "metadata": {
        "colab": {
          "base_uri": "https://localhost:8080/"
        },
        "id": "Jnk1UZ2DxDcB",
        "outputId": "bb1674a8-3879-4ed8-85fd-56f9a5faf0da"
      },
      "outputs": [
        {
          "output_type": "stream",
          "name": "stdout",
          "text": [
            "                                               Genres  Title\n",
            "326                      Dramas, International Movies    362\n",
            "274                                     Documentaries    359\n",
            "470                                   Stand-Up Comedy    334\n",
            "200            Comedies, Dramas, International Movies    274\n",
            "319  Dramas, Independent Movies, International Movies    252\n"
          ]
        }
      ],
      "source": [
        "import pandas as pd\n",
        "\n",
        "df = pd.read_excel(r'asbl_data_analyst_interview_assignment_netflix.xlsx')\n",
        "\n",
        "# Group by genre and count number of titles\n",
        "genre_counts = df.groupby('Genres')['Title'].count().reset_index()\n",
        "\n",
        "# Sort by count of titles and select top 5\n",
        "top_genres = genre_counts.sort_values('Title', ascending=False).head(5)\n",
        "\n",
        "print(top_genres)\n"
      ]
    },
    {
      "cell_type": "markdown",
      "metadata": {
        "id": "p0caHh72xDcC"
      },
      "source": [
        "## c. Which 2 directors should Netflix collaborate with more based on the increase in their movies or tv shows over the past years?**"
      ]
    },
    {
      "cell_type": "code",
      "execution_count": 27,
      "metadata": {
        "colab": {
          "base_uri": "https://localhost:8080/"
        },
        "id": "f6bFo7wFxDcC",
        "outputId": "6634ab03-d67e-4df4-e8be-1987a8d6eb47"
      },
      "outputs": [
        {
          "output_type": "stream",
          "name": "stdout",
          "text": [
            "Director\n",
            "A. L. Vijay     inf\n",
            "A. Raajdheep    inf\n",
            "dtype: float64\n"
          ]
        }
      ],
      "source": [
        "import pandas as pd\n",
        "\n",
        "df = pd.read_excel(r'asbl_data_analyst_interview_assignment_netflix.xlsx')\n",
        "\n",
        "# Filter for movies only\n",
        "movies = df[df['Type'] == 'Movie']\n",
        "\n",
        "# Group by director and release year, and count number of titles\n",
        "director_year_counts = movies.groupby(['Director', 'Release_year'])['Title'].count().reset_index()\n",
        "\n",
        "# Pivot the data so that each director has a row with columns for each release year\n",
        "pivot_table = director_year_counts.pivot(index='Director', columns='Release_year', values='Title').fillna(0)\n",
        "\n",
        "# Calculate the percentage increase in titles for each director between the first and last year\n",
        "percent_increase = (pivot_table.max(axis=1) - pivot_table.min(axis=1)) / pivot_table.min(axis=1)\n",
        "\n",
        "# Select the top 2 directors with the highest percentage increase\n",
        "top_directors = percent_increase.nlargest(2)\n",
        "\n",
        "print(top_directors)\n"
      ]
    },
    {
      "cell_type": "markdown",
      "source": [
        "##d. Which are the top 10 actors who are liked by people and have the most content on the Netflix OTT platform."
      ],
      "metadata": {
        "id": "Ktq367fN0fmm"
      }
    },
    {
      "cell_type": "code",
      "source": [
        "actor_count = df.groupby('Cast')['Title'].count()\n",
        "top_actors = actor_count.sort_values(ascending=False)[:10]\n",
        "print(top_actors)"
      ],
      "metadata": {
        "colab": {
          "base_uri": "https://localhost:8080/"
        },
        "id": "OCiDp9Wuz5gX",
        "outputId": "bd170425-a193-4208-a75c-74cfdb5747f1"
      },
      "execution_count": 29,
      "outputs": [
        {
          "output_type": "stream",
          "name": "stdout",
          "text": [
            "Cast\n",
            "David Attenborough                                                                                                        19\n",
            "Vatsal Dubey, Julie Tejwani, Rupa Bhimani, Jigna Bhardwaj, Rajesh Kava, Mousam, Swapnil                                   14\n",
            "Samuel West                                                                                                               10\n",
            "Jeff Dunham                                                                                                                7\n",
            "Kevin Hart                                                                                                                 6\n",
            "Craig Sechler                                                                                                              6\n",
            "Michela Luci, Jamie Watson, Eric Peterson, Anna Claire Bartlam, Nicolas Aqui, Cory Doran, Julie Lemieux, Derek McGrath     6\n",
            "David Spade, London Hughes, Fortune Feimster                                                                               6\n",
            "Jim Gaffigan                                                                                                               5\n",
            "Bill Burr                                                                                                                  5\n",
            "Name: Title, dtype: int64\n"
          ]
        }
      ]
    },
    {
      "cell_type": "markdown",
      "source": [
        "##e. Which 2 actors should Netflix collaborate with more based on the increase in their movies or tv shows over the past years?"
      ],
      "metadata": {
        "id": "_eyHrOh90O7V"
      }
    },
    {
      "cell_type": "code",
      "source": [
        "actor_year_count = df.groupby(['Cast', 'Release_year'])['Title'].count().reset_index()\n",
        "actor_year_diff = actor_year_count.groupby('Cast')['Release_year'].apply(lambda x: x.max() - x.min())\n",
        "top_collaborators = actor_year_diff.sort_values(ascending=False)[:2]\n",
        "print(top_collaborators)"
      ],
      "metadata": {
        "colab": {
          "base_uri": "https://localhost:8080/"
        },
        "id": "dxLXfyPVz6Z_",
        "outputId": "df6b3e3e-7928-4895-e957-d2d13a0e71e7"
      },
      "execution_count": 30,
      "outputs": [
        {
          "output_type": "stream",
          "name": "stdout",
          "text": [
            "Cast\n",
            "Bob Ross       30\n",
            "Sam Kinison    29\n",
            "Name: Release_year, dtype: int64\n"
          ]
        }
      ]
    },
    {
      "cell_type": "code",
      "source": [],
      "metadata": {
        "id": "g_dVRiKZ0NlI"
      },
      "execution_count": null,
      "outputs": []
    }
  ],
  "metadata": {
    "kernelspec": {
      "display_name": "Python 3",
      "language": "python",
      "name": "python3"
    },
    "language_info": {
      "codemirror_mode": {
        "name": "ipython",
        "version": 3
      },
      "file_extension": ".py",
      "mimetype": "text/x-python",
      "name": "python",
      "nbconvert_exporter": "python",
      "pygments_lexer": "ipython3",
      "version": "3.7.3"
    },
    "colab": {
      "provenance": []
    }
  },
  "nbformat": 4,
  "nbformat_minor": 0
}